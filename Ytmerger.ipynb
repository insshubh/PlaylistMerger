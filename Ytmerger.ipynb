{
  "cells": [
    {
      "cell_type": "code",
      "execution_count": null,
      "metadata": {
        "colab": {
          "base_uri": "https://localhost:8080/",
          "height": 654
        },
        "id": "7xENmdE5YBU6",
        "outputId": "25d63cd1-9c7d-4b75-959e-7ddae4aa6d37"
      },
      "outputs": [
        {
          "name": "stdout",
          "output_type": "stream",
          "text": [
            "Collecting yt-dlp\n",
            "  Downloading yt_dlp-2024.7.9-py3-none-any.whl (3.1 MB)\n",
            "\u001b[2K     \u001b[90m━━━━━━━━━━━━━━━━━━━━━━━━━━━━━━━━━━━━━━━━\u001b[0m \u001b[32m3.1/3.1 MB\u001b[0m \u001b[31m10.9 MB/s\u001b[0m eta \u001b[36m0:00:00\u001b[0m\n",
            "\u001b[?25hCollecting brotli (from yt-dlp)\n",
            "  Downloading Brotli-1.1.0-cp310-cp310-manylinux_2_5_x86_64.manylinux1_x86_64.manylinux_2_12_x86_64.manylinux2010_x86_64.whl (3.0 MB)\n",
            "\u001b[2K     \u001b[90m━━━━━━━━━━━━━━━━━━━━━━━━━━━━━━━━━━━━━━━━\u001b[0m \u001b[32m3.0/3.0 MB\u001b[0m \u001b[31m38.8 MB/s\u001b[0m eta \u001b[36m0:00:00\u001b[0m\n",
            "\u001b[?25hRequirement already satisfied: certifi in /usr/local/lib/python3.10/dist-packages (from yt-dlp) (2024.6.2)\n",
            "Collecting mutagen (from yt-dlp)\n",
            "  Downloading mutagen-1.47.0-py3-none-any.whl (194 kB)\n",
            "\u001b[2K     \u001b[90m━━━━━━━━━━━━━━━━━━━━━━━━━━━━━━━━━━━━━━━━\u001b[0m \u001b[32m194.4/194.4 kB\u001b[0m \u001b[31m15.1 MB/s\u001b[0m eta \u001b[36m0:00:00\u001b[0m\n",
            "\u001b[?25hCollecting pycryptodomex (from yt-dlp)\n",
            "  Downloading pycryptodomex-3.20.0-cp35-abi3-manylinux_2_17_x86_64.manylinux2014_x86_64.whl (2.1 MB)\n",
            "\u001b[2K     \u001b[90m━━━━━━━━━━━━━━━━━━━━━━━━━━━━━━━━━━━━━━━━\u001b[0m \u001b[32m2.1/2.1 MB\u001b[0m \u001b[31m47.8 MB/s\u001b[0m eta \u001b[36m0:00:00\u001b[0m\n",
            "\u001b[?25hCollecting requests<3,>=2.32.2 (from yt-dlp)\n",
            "  Downloading requests-2.32.3-py3-none-any.whl (64 kB)\n",
            "\u001b[2K     \u001b[90m━━━━━━━━━━━━━━━━━━━━━━━━━━━━━━━━━━━━━━━━\u001b[0m \u001b[32m64.9/64.9 kB\u001b[0m \u001b[31m4.9 MB/s\u001b[0m eta \u001b[36m0:00:00\u001b[0m\n",
            "\u001b[?25hRequirement already satisfied: urllib3<3,>=1.26.17 in /usr/local/lib/python3.10/dist-packages (from yt-dlp) (2.0.7)\n",
            "Collecting websockets>=12.0 (from yt-dlp)\n",
            "  Downloading websockets-12.0-cp310-cp310-manylinux_2_5_x86_64.manylinux1_x86_64.manylinux_2_17_x86_64.manylinux2014_x86_64.whl (130 kB)\n",
            "\u001b[2K     \u001b[90m━━━━━━━━━━━━━━━━━━━━━━━━━━━━━━━━━━━━━━━━\u001b[0m \u001b[32m130.2/130.2 kB\u001b[0m \u001b[31m10.7 MB/s\u001b[0m eta \u001b[36m0:00:00\u001b[0m\n",
            "\u001b[?25hRequirement already satisfied: charset-normalizer<4,>=2 in /usr/local/lib/python3.10/dist-packages (from requests<3,>=2.32.2->yt-dlp) (3.3.2)\n",
            "Requirement already satisfied: idna<4,>=2.5 in /usr/local/lib/python3.10/dist-packages (from requests<3,>=2.32.2->yt-dlp) (3.7)\n",
            "Installing collected packages: brotli, websockets, requests, pycryptodomex, mutagen, yt-dlp\n",
            "  Attempting uninstall: requests\n",
            "    Found existing installation: requests 2.31.0\n",
            "    Uninstalling requests-2.31.0:\n",
            "      Successfully uninstalled requests-2.31.0\n",
            "\u001b[31mERROR: pip's dependency resolver does not currently take into account all the packages that are installed. This behaviour is the source of the following dependency conflicts.\n",
            "google-colab 1.0.0 requires requests==2.31.0, but you have requests 2.32.3 which is incompatible.\u001b[0m\u001b[31m\n",
            "\u001b[0mSuccessfully installed brotli-1.1.0 mutagen-1.47.0 pycryptodomex-3.20.0 requests-2.32.3 websockets-12.0 yt-dlp-2024.7.9\n"
          ]
        },
        {
          "data": {
            "application/vnd.colab-display-data+json": {
              "id": "8e1cbce094e143d1bca520b52fb4852a",
              "pip_warning": {
                "packages": [
                  "requests"
                ]
              }
            }
          },
          "metadata": {},
          "output_type": "display_data"
        }
      ],
      "source": [
        "!pip install yt-dlp\n"
      ]
    },
    {
      "cell_type": "code",
      "execution_count": null,
      "metadata": {
        "colab": {
          "background_save": true,
          "base_uri": "https://localhost:8080/"
        },
        "id": "Myl2DJO9YPRf",
        "outputId": "96a5c1f0-c2b1-4cce-b620-1393c7914e5e"
      },
      "outputs": [
        {
          "name": "stdout",
          "output_type": "stream",
          "text": [
            "[youtube:tab] Extracting URL: https://youtube.com/playlist?list=PLZoTAELRMXVMgtxAboeAx-D9qbnY94Yay&si=PtPnyHKrhQJLYDwE\n",
            "[youtube:tab] PLZoTAELRMXVMgtxAboeAx-D9qbnY94Yay: Downloading webpage\n",
            "[youtube:tab] PLZoTAELRMXVMgtxAboeAx-D9qbnY94Yay: Redownloading playlist API JSON with unavailable videos\n",
            "[download] Downloading playlist: Live Statistics Playlist\n",
            "[youtube:tab] PLZoTAELRMXVMgtxAboeAx-D9qbnY94Yay page 1: Downloading API JSON\n"
          ]
        },
        {
          "name": "stderr",
          "output_type": "stream",
          "text": [
            "WARNING: [youtube:tab] Incomplete data received. Retrying (1/3)...\n"
          ]
        },
        {
          "name": "stdout",
          "output_type": "stream",
          "text": [
            "[youtube:tab] PLZoTAELRMXVMgtxAboeAx-D9qbnY94Yay page 1: Downloading API JSON\n"
          ]
        },
        {
          "name": "stderr",
          "output_type": "stream",
          "text": [
            "WARNING: [youtube:tab] Incomplete data received. Retrying (2/3)...\n"
          ]
        },
        {
          "name": "stdout",
          "output_type": "stream",
          "text": [
            "[youtube:tab] PLZoTAELRMXVMgtxAboeAx-D9qbnY94Yay page 1: Downloading API JSON\n"
          ]
        },
        {
          "name": "stderr",
          "output_type": "stream",
          "text": [
            "WARNING: [youtube:tab] Incomplete data received. Retrying (3/3)...\n"
          ]
        },
        {
          "name": "stdout",
          "output_type": "stream",
          "text": [
            "[youtube:tab] PLZoTAELRMXVMgtxAboeAx-D9qbnY94Yay page 1: Downloading API JSON\n"
          ]
        },
        {
          "name": "stderr",
          "output_type": "stream",
          "text": [
            "WARNING: [youtube:tab] Incomplete data received. Giving up after 3 retries\n"
          ]
        },
        {
          "name": "stdout",
          "output_type": "stream",
          "text": [
            "[youtube:tab] Playlist Live Statistics Playlist: Downloading 8 items of 8\n",
            "[download] Downloading item 1 of 8\n",
            "[youtube] Extracting URL: https://www.youtube.com/watch?v=11unm2hmvOQ\n",
            "[youtube] 11unm2hmvOQ: Downloading webpage\n",
            "[youtube] 11unm2hmvOQ: Downloading ios player API JSON\n",
            "[youtube] 11unm2hmvOQ: Downloading player 8d9f6215\n",
            "[youtube] 11unm2hmvOQ: Downloading m3u8 information\n",
            "[info] 11unm2hmvOQ: Downloading 1 format(s): 18\n",
            "[download] Destination: /content/drive/MyDrive/Colab Notebooks/Temp/Live Day 1- Introduction To statistics In Data Science.mp4\n",
            "[download] 100% of  107.24MiB in 00:00:19 at 5.48MiB/s   \n",
            "[download] Downloading item 2 of 8\n",
            "[youtube] Extracting URL: https://www.youtube.com/watch?v=Ims3L_hfLJU\n",
            "[youtube] Ims3L_hfLJU: Downloading webpage\n",
            "[youtube] Ims3L_hfLJU: Downloading ios player API JSON\n",
            "[youtube] Ims3L_hfLJU: Downloading m3u8 information\n",
            "[info] Ims3L_hfLJU: Downloading 1 format(s): 18\n",
            "[download] Destination: /content/drive/MyDrive/Colab Notebooks/Temp/Live Day 2- Basic To Intermediate Statistics.mp4\n",
            "[download] 100% of  102.96MiB in 00:00:06 at 15.64MiB/s  \n",
            "[download] Downloading item 3 of 8\n",
            "[youtube] Extracting URL: https://www.youtube.com/watch?v=y1y1ATTMpaw\n",
            "[youtube] y1y1ATTMpaw: Downloading webpage\n",
            "[youtube] y1y1ATTMpaw: Downloading ios player API JSON\n",
            "[youtube] y1y1ATTMpaw: Downloading m3u8 information\n",
            "[info] y1y1ATTMpaw: Downloading 1 format(s): 18\n",
            "[download] Destination: /content/drive/MyDrive/Colab Notebooks/Temp/Live Day 3- Intermediate Statistics With Python In Data Science.mp4\n",
            "[download] 100% of  114.18MiB in 00:00:15 at 7.39MiB/s   \n",
            "[download] Downloading item 4 of 8\n",
            "[youtube] Extracting URL: https://www.youtube.com/watch?v=xTLfLtqGsyg\n",
            "[youtube] xTLfLtqGsyg: Downloading webpage\n",
            "[youtube] xTLfLtqGsyg: Downloading ios player API JSON\n",
            "[youtube] xTLfLtqGsyg: Downloading m3u8 information\n",
            "[info] xTLfLtqGsyg: Downloading 1 format(s): 18\n",
            "[download] Destination: /content/drive/MyDrive/Colab Notebooks/Temp/Live Day 4- Advance Statistics With Python In Data Science.mp4\n",
            "[download] 100% of  106.94MiB in 00:00:09 at 11.36MiB/s  \n",
            "[download] Downloading item 5 of 8\n",
            "[youtube] Extracting URL: https://www.youtube.com/watch?v=PbguWyuZ4Ts\n",
            "[youtube] PbguWyuZ4Ts: Downloading webpage\n",
            "[youtube] PbguWyuZ4Ts: Downloading ios player API JSON\n",
            "[youtube] PbguWyuZ4Ts: Downloading m3u8 information\n",
            "[info] PbguWyuZ4Ts: Downloading 1 format(s): 18\n",
            "[download] Destination: /content/drive/MyDrive/Colab Notebooks/Temp/Live Day 5- Advance Statistics With Python In Data Science.mp4\n",
            "[download] 100% of  110.48MiB in 00:00:33 at 3.29MiB/s   \n",
            "[download] Downloading item 6 of 8\n",
            "[youtube] Extracting URL: https://www.youtube.com/watch?v=g9f0bjaaiu0\n",
            "[youtube] g9f0bjaaiu0: Downloading webpage\n",
            "[youtube] g9f0bjaaiu0: Downloading ios player API JSON\n",
            "[youtube] g9f0bjaaiu0: Downloading m3u8 information\n",
            "[info] g9f0bjaaiu0: Downloading 1 format(s): 18\n",
            "[download] Destination: /content/drive/MyDrive/Colab Notebooks/Temp/Live Day 6- Advance Statistics With Python In Data Science.mp4\n",
            "[download] 100% of  119.74MiB in 00:00:11 at 10.16MiB/s  \n",
            "[download] Downloading item 7 of 8\n",
            "[youtube] Extracting URL: https://www.youtube.com/watch?v=xKCrCyJV9Os\n",
            "[youtube] xKCrCyJV9Os: Downloading webpage\n",
            "[youtube] xKCrCyJV9Os: Downloading ios player API JSON\n",
            "[youtube] xKCrCyJV9Os: Downloading m3u8 information\n",
            "[info] xKCrCyJV9Os: Downloading 1 format(s): 18\n",
            "[download] Destination: /content/drive/MyDrive/Colab Notebooks/Temp/Live Day 7- Summarizing Statistics With Python In Data Science.mp4\n",
            "[download] 100% of  132.78MiB in 00:00:08 at 15.10MiB/s  \n",
            "[download] Downloading item 8 of 8\n",
            "[youtube] Extracting URL: https://www.youtube.com/watch?v=6Z8SdN52GuU\n",
            "[youtube] 6Z8SdN52GuU: Downloading webpage\n",
            "[youtube] 6Z8SdN52GuU: Downloading ios player API JSON\n",
            "[youtube] 6Z8SdN52GuU: Downloading m3u8 information\n",
            "[info] 6Z8SdN52GuU: Downloading 1 format(s): 18\n",
            "[download] Destination: /content/drive/MyDrive/Colab Notebooks/Temp/Watch This Video To Crack Any Stats Interview For Data Scientist- Understanding PDF,PMF and CDF.mp4\n",
            "[download] 100% of   38.40MiB in 00:00:04 at 9.42MiB/s   \n",
            "[download] Finished downloading playlist: Live Statistics Playlist\n",
            "All videos have been downloaded.\n",
            "Moviepy - Building video /content/drive/MyDrive/Colab Notebooks/Temp/merged_video.mp4.\n",
            "MoviePy - Writing audio in merged_videoTEMP_MPY_wvf_snd.mp4\n"
          ]
        },
        {
          "name": "stderr",
          "output_type": "stream",
          "text": [
            ""
          ]
        },
        {
          "name": "stdout",
          "output_type": "stream",
          "text": [
            "MoviePy - Done.\n",
            "Moviepy - Writing video /content/drive/MyDrive/Colab Notebooks/Temp/merged_video.mp4\n",
            "\n"
          ]
        },
        {
          "name": "stderr",
          "output_type": "stream",
          "text": [
            "t:  27%|██▋       | 316039/1175922 [42:50<1:55:19, 124.27it/s, now=None]WARNING:py.warnings:/usr/local/lib/python3.10/dist-packages/moviepy/video/io/ffmpeg_reader.py:123: UserWarning: Warning: in file /content/drive/MyDrive/Colab Notebooks/Temp/Live Day 2- Basic To Intermediate Statistics.mp4, 691200 bytes wanted but 0 bytes read,at frame 155250/155251, at time 5175.00/5175.01 sec. Using the last valid frame instead.\n",
            "  warnings.warn(\"Warning: in file %s, \"%(self.filename)+\n",
            "\n",
            "t:  55%|█████▌    | 650987/1175922 [1:26:38<54:54, 159.33it/s, now=None]WARNING:py.warnings:/usr/local/lib/python3.10/dist-packages/moviepy/video/io/ffmpeg_reader.py:123: UserWarning: Warning: in file /content/drive/MyDrive/Colab Notebooks/Temp/Live Day 4- Advance Statistics With Python In Data Science.mp4, 691200 bytes wanted but 0 bytes read,at frame 164550/164551, at time 5485.00/5485.02 sec. Using the last valid frame instead.\n",
            "  warnings.warn(\"Warning: in file %s, \"%(self.filename)+\n",
            "\n",
            "t:  69%|██████▉   | 816966/1175922 [1:48:26<42:14, 141.65it/s, now=None]WARNING:py.warnings:/usr/local/lib/python3.10/dist-packages/moviepy/video/io/ffmpeg_reader.py:123: UserWarning: Warning: in file /content/drive/MyDrive/Colab Notebooks/Temp/Live Day 5- Advance Statistics With Python In Data Science.mp4, 691200 bytes wanted but 0 bytes read,at frame 165964/165965, at time 5532.13/5532.15 sec. Using the last valid frame instead.\n",
            "  warnings.warn(\"Warning: in file %s, \"%(self.filename)+\n",
            "\n",
            "t:  85%|████████▍ | 994553/1175922 [2:12:21<18:07, 166.85it/s, now=None]WARNING:py.warnings:/usr/local/lib/python3.10/dist-packages/moviepy/video/io/ffmpeg_reader.py:123: UserWarning: Warning: in file /content/drive/MyDrive/Colab Notebooks/Temp/Live Day 6- Advance Statistics With Python In Data Science.mp4, 691200 bytes wanted but 0 bytes read,at frame 177600/177601, at time 5920.00/5920.02 sec. Using the last valid frame instead.\n",
            "  warnings.warn(\"Warning: in file %s, \"%(self.filename)+\n",
            "\n"
          ]
        },
        {
          "name": "stdout",
          "output_type": "stream",
          "text": [
            "Moviepy - Done !\n",
            "Moviepy - video ready /content/drive/MyDrive/Colab Notebooks/Temp/merged_video.mp4\n",
            "All videos have been merged into: /content/drive/MyDrive/Colab Notebooks/Temp/merged_video.mp4\n",
            "Deleted video file: /content/drive/MyDrive/Colab Notebooks/Temp/Live Day 1- Introduction To statistics In Data Science.mp4\n",
            "Deleted video file: /content/drive/MyDrive/Colab Notebooks/Temp/Live Day 2- Basic To Intermediate Statistics.mp4\n",
            "Deleted video file: /content/drive/MyDrive/Colab Notebooks/Temp/Live Day 3- Intermediate Statistics With Python In Data Science.mp4\n",
            "Deleted video file: /content/drive/MyDrive/Colab Notebooks/Temp/Live Day 4- Advance Statistics With Python In Data Science.mp4\n",
            "Deleted video file: /content/drive/MyDrive/Colab Notebooks/Temp/Live Day 5- Advance Statistics With Python In Data Science.mp4\n",
            "Deleted video file: /content/drive/MyDrive/Colab Notebooks/Temp/Live Day 6- Advance Statistics With Python In Data Science.mp4\n",
            "Deleted video file: /content/drive/MyDrive/Colab Notebooks/Temp/Live Day 7- Summarizing Statistics With Python In Data Science.mp4\n",
            "Deleted video file: /content/drive/MyDrive/Colab Notebooks/Temp/Watch This Video To Crack Any Stats Interview For Data Scientist- Understanding PDF,PMF and CDF.mp4\n",
            "All individual video files have been deleted.\n"
          ]
        }
      ],
      "source": [
        "from yt_dlp import YoutubeDL\n",
        "from moviepy.editor import VideoFileClip, concatenate_videoclips\n",
        "import os\n",
        "\n",
        "def download_playlist(playlist_url, download_path='.'):\n",
        "    try:\n",
        "        ydl_opts = {\n",
        "            'format': 'best',\n",
        "            'outtmpl': os.path.join(download_path, '%(title)s.%(ext)s'),\n",
        "        }\n",
        "\n",
        "        with YoutubeDL(ydl_opts) as ydl:\n",
        "            result = ydl.extract_info(playlist_url, download=True)\n",
        "            if 'entries' in result:\n",
        "                video_files = [os.path.join(download_path, entry['title'] + '.' + entry['ext']) for entry in result['entries']]\n",
        "            else:\n",
        "                video_files = [os.path.join(download_path, result['title'] + '.' + result['ext'])]\n",
        "\n",
        "        print('All videos have been downloaded.')\n",
        "        return video_files\n",
        "    except Exception as e:\n",
        "        print(f'An error occurred: {e}')\n",
        "        return []\n",
        "\n",
        "def merge_videos(video_files, output_path):\n",
        "    try:\n",
        "        clips = [VideoFileClip(video_file) for video_file in video_files]\n",
        "        final_clip = concatenate_videoclips(clips)\n",
        "        final_clip.write_videofile(output_path, codec=\"libx264\", audio_codec=\"aac\")\n",
        "        print(f'All videos have been merged into: {output_path}')\n",
        "    except Exception as e:\n",
        "        print(f'An error occurred during merging: {e}')\n",
        "\n",
        "def delete_videos(video_files):\n",
        "    try:\n",
        "        for video_file in video_files:\n",
        "            os.remove(video_file)\n",
        "            print(f'Deleted video file: {video_file}')\n",
        "        print('All individual video files have been deleted.')\n",
        "    except Exception as e:\n",
        "        print(f'An error occurred while deleting video files: {e}')\n",
        "\n",
        "if __name__ == '__main__':\n",
        "    playlist_url = \"https://youtube.com/playlist?list=PLZoTAELRMXVMgtxAboeAx-D9qbnY94Yay&si=PtPnyHKrhQJLYDwE\"\n",
        "    download_path = \"/content/drive/MyDrive/Colab Notebooks/Temp\"\n",
        "    if not download_path:\n",
        "        download_path = '.'\n",
        "\n",
        "    video_files = download_playlist(playlist_url, download_path)\n",
        "\n",
        "    if video_files:\n",
        "        output_video = os.path.join(download_path, 'merged_video.mp4')\n",
        "        merge_videos(video_files, output_video)\n",
        "        delete_videos(video_files)\n"
      ]
    },
    {
      "cell_type": "code",
      "source": [
        "from google.colab import drive\n",
        "drive.mount('/content/drive')"
      ],
      "metadata": {
        "colab": {
          "base_uri": "https://localhost:8080/"
        },
        "id": "tSlszq2dQpio",
        "outputId": "695debc4-5287-463b-f3f4-38c6f2ec4251"
      },
      "execution_count": 1,
      "outputs": [
        {
          "output_type": "stream",
          "name": "stdout",
          "text": [
            "Drive already mounted at /content/drive; to attempt to forcibly remount, call drive.mount(\"/content/drive\", force_remount=True).\n"
          ]
        }
      ]
    }
  ],
  "metadata": {
    "colab": {
      "provenance": [],
      "mount_file_id": "1GspaMnu-Q9oyNpUYX7dBpXhBn88szCEn",
      "authorship_tag": "ABX9TyPsVvtlCWTLZcfNWNeVUiyA"
    },
    "kernelspec": {
      "display_name": "Python 3",
      "name": "python3"
    },
    "language_info": {
      "name": "python"
    }
  },
  "nbformat": 4,
  "nbformat_minor": 0
}